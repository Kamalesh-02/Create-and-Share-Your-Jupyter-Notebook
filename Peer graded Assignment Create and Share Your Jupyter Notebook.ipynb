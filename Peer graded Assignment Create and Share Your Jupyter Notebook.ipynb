{
 "cells": [
  {
   "cell_type": "markdown",
   "id": "2967f9d4-d55f-48f1-a1ec-5205dc4a4931",
   "metadata": {},
   "source": [
    "# My Jupyter Notebook on IBM Watson Studio"
   ]
  },
  {
   "cell_type": "markdown",
   "id": "497504d6-94a3-4d92-b473-7ce1468d697b",
   "metadata": {},
   "source": [
    "**Kamalesh K B**\n",
    "<br>\n",
    "Student"
   ]
  },
  {
   "cell_type": "markdown",
   "id": "e2ad2e8a-32fa-4350-bc80-6fb4a393ef33",
   "metadata": {},
   "source": [
    "*I am interested in data science because it allows you to extract insights and knowledge from large and complex data sets, which can be used to make data-driven decisions and solve real-world problems in a variety of fields such as business, healthcare, and science. Additionally, the field of data science is rapidly growing and in high demand, making it a valuable skill set to have in today's job market.*"
   ]
  },
  {
   "cell_type": "markdown",
   "id": "bb9b02d4-f422-4e12-b57d-aba7f05581cf",
   "metadata": {},
   "source": [
    "### Addition of 1 + 1"
   ]
  },
  {
   "cell_type": "code",
   "execution_count": 1,
   "id": "8c63bd20-7de7-431c-b9b0-b41a1e8d12c3",
   "metadata": {},
   "outputs": [
    {
     "data": {
      "text/plain": [
       "2"
      ]
     },
     "execution_count": 1,
     "metadata": {},
     "output_type": "execute_result"
    }
   ],
   "source": [
    "1+1"
   ]
  },
  {
   "cell_type": "markdown",
   "id": "6f775497-f2f3-4362-a11b-94c57b2b2974",
   "metadata": {},
   "source": [
    "Numbered List\n",
    "1. Numbered item\n",
    "1. Numbered item\n",
    "<br>\n",
    "Bullets \n",
    "- Main bullet point\n",
    "     - Sub bullet point\n",
    "<br><br>\n",
    "Hyperlink\n",
    "__[IBM Cloud](https://cloud.ibm.com)__"
   ]
  },
  {
   "cell_type": "markdown",
   "id": "08dc3678-213d-4f19-823c-501a79334d5d",
   "metadata": {},
   "source": [
    "Bullets \n",
    "- Main bullet point\n",
    "     - Sub bullet point"
   ]
  },
  {
   "cell_type": "markdown",
   "id": "cc5debfe-ad3e-4879-b6d7-2f4a1fc57a20",
   "metadata": {},
   "source": [
    "Hyperlink\n",
    "__[IBM Cloud](https://cloud.ibm.com)__"
   ]
  }
 ],
 "metadata": {
  "kernelspec": {
   "display_name": "Python",
   "language": "python",
   "name": "conda-env-python-py"
  },
  "language_info": {
   "codemirror_mode": {
    "name": "ipython",
    "version": 3
   },
   "file_extension": ".py",
   "mimetype": "text/x-python",
   "name": "python",
   "nbconvert_exporter": "python",
   "pygments_lexer": "ipython3",
   "version": "3.7.12"
  }
 },
 "nbformat": 4,
 "nbformat_minor": 5
}
